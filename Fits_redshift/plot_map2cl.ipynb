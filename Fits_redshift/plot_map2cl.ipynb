{
 "cells": [
  {
   "cell_type": "code",
   "execution_count": 31,
   "metadata": {},
   "outputs": [],
   "source": [
    "import os\n",
    "import numpy as np\n",
    "import healpy as hp\n",
    "from astropy.io import fits\n",
    "import matplotlib.pyplot as plt"
   ]
  },
  {
   "cell_type": "code",
   "execution_count": 32,
   "metadata": {},
   "outputs": [],
   "source": [
    "path     = os.getcwd()\n",
    "path_in  = os.path.join(path,\"input\")\n",
    "path_out = os.path.join(path,\"output\")"
   ]
  },
  {
   "cell_type": "code",
   "execution_count": 33,
   "metadata": {},
   "outputs": [],
   "source": [
    "dir_in = os.listdir(path_in)\n",
    "dir_out = os.listdir(path_out)"
   ]
  },
  {
   "cell_type": "code",
   "execution_count": 34,
   "metadata": {},
   "outputs": [
    {
     "data": {
      "text/plain": [
       "['map_total_test.fits']"
      ]
     },
     "execution_count": 34,
     "metadata": {},
     "output_type": "execute_result"
    }
   ],
   "source": [
    "dir_in"
   ]
  },
  {
   "cell_type": "code",
   "execution_count": 35,
   "metadata": {},
   "outputs": [
    {
     "data": {
      "text/plain": [
       "['reconstructed_maps_test_verdao.fits']"
      ]
     },
     "execution_count": 35,
     "metadata": {},
     "output_type": "execute_result"
    }
   ],
   "source": [
    "dir_out"
   ]
  },
  {
   "cell_type": "code",
   "execution_count": 36,
   "metadata": {},
   "outputs": [],
   "source": [
    "path_map_in  = os.path.join(path_in,dir_in[0])     #coloque o índice do mapa 21cm flask\n",
    "path_map_out = os.path.join(path_out,dir_out[0]) #coloque o índice do mapa reconstruído"
   ]
  },
  {
   "cell_type": "code",
   "execution_count": 37,
   "metadata": {},
   "outputs": [],
   "source": [
    "map_in  = fits.getdata(path_map_in)[1,:]\n",
    "map_out = fits.getdata(path_map_out)[1,:]"
   ]
  },
  {
   "cell_type": "code",
   "execution_count": 38,
   "metadata": {},
   "outputs": [],
   "source": [
    "cl_in = hp.anafast(map_in)\n",
    "cl_out = hp.anafast(map_out)\n",
    "l_in = np.arange(len(cl_in))\n",
    "l_out = np.arange(len(cl_out))"
   ]
  },
  {
   "cell_type": "code",
   "execution_count": 39,
   "metadata": {},
   "outputs": [
    {
     "data": {
      "image/png": "[encoded data removed]",
      "text/plain": [
       "<Figure size 432x288 with 3 Axes>"
      ]
     },
     "metadata": {},
     "output_type": "display_data"
    }
   ],
   "source": [
    "fig, ((ax1, ax2, ax3)) = plt.subplots(1,3)\n",
    "ax1.plot(l_in, cl_in,\"r\") \n",
    "ax1.grid()\n",
    "\n",
    "ax2.plot(l_out, cl_out,\"b\")\n",
    "ax2.grid()\n",
    "\n",
    "ax3.plot(l_in, cl_in,\"r\") \n",
    "ax3.plot(l_out, cl_out,\"b\")\n",
    "ax3.grid()"
   ]
  },
  {
   "cell_type": "code",
   "execution_count": 40,
   "metadata": {},
   "outputs": [
    {
     "data": {
      "text/plain": [
       "(0, 2e-08)"
      ]
     },
     "execution_count": 40,
     "metadata": {},
     "output_type": "execute_result"
    },
    {
     "data": {
      "image/png": "[encoded data removed]",
      "text/plain": [
       "<Figure size 432x288 with 1 Axes>"
      ]
     },
     "metadata": {},
     "output_type": "display_data"
    }
   ],
   "source": [
    "fig, ((ax3)) = plt.subplots(1)\n",
    "ax3.plot(l_in, cl_in,\"r\") \n",
    "ax3.plot(l_out, cl_out,\"b\")\n",
    "ax3.grid()\n",
    "plt.xlim(100,350)\n",
    "plt.ylim(0, 0.00000002)"
   ]
  }
 ],
 "metadata": {
  "kernelspec": {
   "display_name": "Python 2",
   "language": "python",
   "name": "python2"
  },
  "language_info": {
   "codemirror_mode": {
    "name": "ipython",
    "version": 2
   },
   "file_extension": ".py",
   "mimetype": "text/x-python",
   "name": "python",
   "nbconvert_exporter": "python",
   "pygments_lexer": "ipython2",
   "version": "2.7.15"
  }
 },
 "nbformat": 4,
 "nbformat_minor": 2
}
