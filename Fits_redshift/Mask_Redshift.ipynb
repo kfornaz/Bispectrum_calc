{
 "cells": [
  {
   "cell_type": "code",
   "execution_count": 102,
   "metadata": {},
   "outputs": [],
   "source": [
    "import os,sys\n",
    "import numpy as np\n",
    "import healpy as hp\n",
    "from math import *\n",
    "from astropy.io import ascii, fits\n",
    "#from astropy.table import Table, join, hstack, vstack"
   ]
  },
  {
   "cell_type": "code",
   "execution_count": 103,
   "metadata": {},
   "outputs": [],
   "source": [
    "NSIDE      = 256 \n",
    "phi_mask   = True\n",
    "theta_mask = False\n",
    "phi_min    = -22.5\n",
    "phi_max    = -2.5\n",
    "theta_min  = -90\n",
    "theta_max  = 90   "
   ]
  },
  {
   "cell_type": "code",
   "execution_count": null,
   "metadata": {},
   "outputs": [],
   "source": [
    "start = 1\n",
    "end = 30    \n",
    "for i in range(start, end):\n",
    "   #matrixf = np.loadtxt(\"B_ell_ell_delta_flask_21_cube256_redshift_\"+str(i)+ \".txt\", delimiter=',')\n",
    "    NPIXa  = fits.getdata(\"/home/karin/Desktop/gnilc/Cubo_Flask_crescente/Redshifts_bins/Foregrounds_Redshift/fits/Foregrounds_Cubo_Redshift_\"+str(i)+ \".fits\", delimiter=',')\n",
    "    NPIX       = hp.nside2npix(NSIDE)\n",
    "    bingo_mask = np.zeros((NPIX), dtype=bool)\n",
    "    #bingo_mask = np.ones((NPIX))\n",
    "    \n",
    "   for pixel in range(NPIX):\n",
    "        theta,phi = hp.pix2ang(NSIDE,pixel, lonlat=True, nest=False)\n",
    "        if (phi>phi_min)*(phi<phi_max)*phi_mask and not theta_mask:\n",
    "            bingo_mask[pixel] = 1  \n",
    "        elif (theta>theta_min)*(theta<theta_max)*theta_mask and not phi_mask:\n",
    "            bingo_mask[pixel] = 1\n",
    "        elif (theta>theta_min)*(theta<theta_max)*theta_mask*(phi>phi_min)*(phi<phi_max)*phi_mask:\n",
    "            bingo_mask[pixel] = 1\n",
    "        else:\n",
    "            pass\n",
    "   \n",
    "    print \"lendo--> Redshift\", i\n",
    "    hp.write_map('/home/karin/Desktop/gnilc/Cubo_Flask_crescente/Redshifts_bins/Foregrounds_Redshift/fits/Mask_Foregrounds_Cubo_Redshift_'+str(i)+ '.fits', bingo_mask)\n",
    "\n",
    "  \n"
   ]
  },
  {
   "cell_type": "code",
   "execution_count": null,
   "metadata": {
    "scrolled": false
   },
   "outputs": [],
   "source": [
    "#start = 1\n",
    "#end = 30    \n",
    "#for i in range(start, end):\n",
    "    #matrixf = np.loadtxt(\"B_ell_ell_delta_flask_21_cube256_redshift_\"+str(i)+ \".txt\", delimiter=',')\n",
    "#    NPIXa  = fits.getdata(\"/home/karin/Desktop/gnilc/Cubo_Flask_crescente/Redshifts_bins/Foregrounds_Redshift/fits/Foregrounds_Cubo_Redshift_\"+str(i)+ \".fits\", delimiter=',')\n",
    "#    NPIX       = hp.nside2npix(NSIDE)\n",
    "#    bingo_mask = np.zeros((NPIX), dtype=bool)\n",
    "    #bingo_mask = np.ones((NPIX))\n",
    "    \n",
    "#    for pixel in range(NPIX):\n",
    "#        theta,phi = hp.pix2ang(NSIDE,pixel, lonlat=True, nest=False)\n",
    "#        if (phi<phi_min)*(phi>phi_max)*phi_mask and theta_mask:\n",
    "            #bingo_mask[pixel] = 1\n",
    "#            NPIXa[pixel] = 0\n",
    "#        elif (theta<theta_min)*(theta>theta_max)*theta_mask and phi_mask:\n",
    "#             NPIXa[pixel] = 0\n",
    "        #elif (theta<theta_min)*(theta>theta_max)*theta_mask*(phi<phi_min)*(phi>phi_max)*phi_mask:\n",
    "             #NPIXa[pixel] = 0\n",
    "#        else:\n",
    "#            bingo_mask[pixel] = 0\n",
    "            \n",
    "    \n",
    "#    print \"lendo--> Redshift\", i\n",
    "#    hp.write_map('/home/karin/Desktop/gnilc/Cubo_Flask_crescente/Redshifts_bins/Foregrounds_Redshift/fits/Mask_Tentativa_Foregrounds_Cubo_Redshift_'+str(i)+ '.fits', NPIXa)\n",
    "\n",
    "  \n"
   ]
  },
  {
   "cell_type": "code",
   "execution_count": null,
   "metadata": {},
   "outputs": [],
   "source": []
  },
  {
   "cell_type": "code",
   "execution_count": null,
   "metadata": {},
   "outputs": [],
   "source": [
    "#if phi_mask and not theta_mask:\n",
    "#    file = \"_\".join((\"BingoMask\",str(NSIDE),\"phi\",str(phi_min),str(phi_max)))\n",
    "#elif theta_mask and not phi_mask:\n",
    "#    file = \"_\".join((\"BingoMask\",str(NSIDE),\"theta\",str(theta_min),str(theta_max)))\n",
    "#elif theta_mask*phi_mask:\n",
    "#    file = \"_\".join((\"BingoMask\",str(NSIDE),\"phi\",str(phi_min),str(phi_max),\"theta\",str(theta_min),str(theta_max)))\n",
    "#else:\n",
    "#    file = \"_\".join((\"BingoMask\",str(NSIDE),\"no_mask\"))\n",
    "\n",
    "#file = \".\".join((file,\"fits\"))\n",
    "#path = os.getcwd()\n",
    "#path = os.path.join(path,\"BINGO_MASK_TESTE\")\n",
    "#path = os.path.join(path,file)"
   ]
  },
  {
   "cell_type": "code",
   "execution_count": null,
   "metadata": {},
   "outputs": [],
   "source": [
    "#maskdir()\n",
    "#try:\n",
    "#    hp.write_map(path,bingo_mask)\n",
    "#except IOError:\n",
    "#    os.remove(path)\n",
    "#    hp.write_map(path,bingo_mask)"
   ]
  },
  {
   "cell_type": "code",
   "execution_count": null,
   "metadata": {},
   "outputs": [],
   "source": [
    "#m = hp.read_map(\"/home/karin/Desktop/gnilc/Cubo_Flask_crescente/Redshifts_bins/Foregrounds_Redshift/fits/Mask_Foregrounds_Cubo_Redshift_21.fits\")\n",
    "#hp.mollview(m)"
   ]
  }
 ],
 "metadata": {
  "kernelspec": {
   "display_name": "Python 2",
   "language": "python",
   "name": "python2"
  },
  "language_info": {
   "codemirror_mode": {
    "name": "ipython",
    "version": 2
   },
   "file_extension": ".py",
   "mimetype": "text/x-python",
   "name": "python",
   "nbconvert_exporter": "python",
   "pygments_lexer": "ipython2",
   "version": "2.7.15"
  }
 },
 "nbformat": 4,
 "nbformat_minor": 2
}
