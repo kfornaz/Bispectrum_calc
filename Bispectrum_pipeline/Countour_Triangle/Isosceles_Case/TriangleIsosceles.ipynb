{
 "cells": [
  {
   "cell_type": "code",
   "execution_count": 238,
   "metadata": {},
   "outputs": [],
   "source": [
    "# encoding: utf-8\n",
    "##############################################################################\n",
    "## Algorithm for Countour Triangle     (equisize Triangule)              #####\n",
    "##                                                                       #####\n",
    "## \n",
    "## Authors: Karin Fornazier, Filipe Abdala\n",
    "## Email: karin.fornazier@gmail.com\n",
    "## Supervisor: F.B. Abdalla\n",
    "## Latest Version June 2019\n",
    "###########################################################################\n",
    "###########################################################################\n",
    "from mpl_toolkits.mplot3d import Axes3D\n",
    "from matplotlib import cm\n",
    "from matplotlib.ticker import LinearLocator\n",
    "import numpy as np\n",
    "from scipy.integrate import quad\n",
    "from scipy.interpolate import interp1d\n",
    "from scipy.stats import norm\n",
    "import matplotlib\n",
    "import numpy as np\n",
    "import healpy as hp\n",
    "import matplotlib.pyplot as plt\n",
    "import matplotlib.cm as cm\n",
    "import matplotlib.mlab as mlab\n",
    "from astropy.io import fits\n",
    "from math import pi, sin, cos, sqrt, log, floor\n",
    "from sympy.physics.wigner import gaunt\n",
    "import sys\n",
    "\n",
    "\n",
    "#load file and matrix - usou loadtxt para evitar problemas com int ou qq outra coisa nos numeros\n",
    "\n",
    "matrixf = np.loadtxt(\"B_ell_ell_Foregrounds_isosceles0.txt\", delimiter=',')\n"
   ]
  },
  {
   "cell_type": "code",
   "execution_count": 239,
   "metadata": {},
   "outputs": [],
   "source": [
    "#carregou a matriz com os valores de Bell\n",
    "matrix_Bell = matrixf[:,0] \n",
    "matrix_Bella = matrixf[:,0]\n",
    "matrix_Bellt=np.concatenate((matrix_Bell, matrix_Bella), axis=0)\n",
    "matrix_Bellt=matrix_Bellt.T #gambi que fiz... nao tem razao logica..."
   ]
  },
  {
   "cell_type": "code",
   "execution_count": 240,
   "metadata": {},
   "outputs": [],
   "source": [
    "#carregou a matriz com os valores de l3\n",
    "matrix_ell3 = matrixf[:,3]\n",
    "matrix_ell3a = matrixf[:,3]\n",
    "matrix_ell3t=np.concatenate((matrix_ell3, matrix_ell3a), axis=0)"
   ]
  },
  {
   "cell_type": "code",
   "execution_count": 241,
   "metadata": {
    "scrolled": true
   },
   "outputs": [],
   "source": [
    "#carregou a matriz com os valores de l1=l2 aqui precisa de correcao pois os valores são espelhados\n",
    "matrix_ell12 = matrixf[:,1]\n",
    "matrix_ell12a = matrixf[:,2] \n",
    "matrix_ell12t=np.concatenate((matrix_ell12, matrix_ell12a), axis=0)"
   ]
  },
  {
   "cell_type": "code",
   "execution_count": 242,
   "metadata": {},
   "outputs": [],
   "source": [
    "#matrix l3\n",
    "#set the x dimension form matrix shape\n",
    "Y =matrix_ell3t \n",
    "a = Y.max()\n",
    "b = np.min(Y)\n",
    "Yarr = np.arange(int(b),int(a)+1)"
   ]
  },
  {
   "cell_type": "code",
   "execution_count": 243,
   "metadata": {},
   "outputs": [],
   "source": [
    "#matrix_ell1#set the x dimension form matrix shape\n",
    "X =matrix_ell12t\n",
    "a = X.max()\n",
    "b = np.min(X)\n",
    "Xarr = np.arange(int(b),int(a)+1)\n",
    "sizex = Xarr.size"
   ]
  },
  {
   "cell_type": "code",
   "execution_count": 244,
   "metadata": {},
   "outputs": [],
   "source": [
    "Bellmatrix = np.zeros((Xarr.size,Yarr.size))\n",
    "for i in np.arange(matrix_Bellt.size):    \n",
    "    Bellmatrix[int(matrix_ell12t[i]),int(matrix_ell3t[i])]=matrix_Bellt[i]"
   ]
  },
  {
   "cell_type": "code",
   "execution_count": 245,
   "metadata": {},
   "outputs": [
    {
     "data": {
      "image/png": "[encoded data removed]",
      "text/plain": [
       "<Figure size 432x288 with 2 Axes>"
      ]
     },
     "metadata": {},
     "output_type": "display_data"
    }
   ],
   "source": [
    "cp = plt.contourf(Xarr, Yarr, Bellmatrix.T,cmap=cm.viridis )\n",
    "\n",
    "plt.colorbar(cp)\n",
    "plt.title(\"Contour plot Bispectrum\")\n",
    "plt.xlabel('ell1=ell2')\n",
    "plt.ylabel('ell3')\n",
    "\n",
    "plt.show()"
   ]
  }
 ],
 "metadata": {
  "kernelspec": {
   "display_name": "Python 2",
   "language": "python",
   "name": "python2"
  },
  "language_info": {
   "codemirror_mode": {
    "name": "ipython",
    "version": 2
   },
   "file_extension": ".py",
   "mimetype": "text/x-python",
   "name": "python",
   "nbconvert_exporter": "python",
   "pygments_lexer": "ipython2",
   "version": "2.7.15"
  }
 },
 "nbformat": 4,
 "nbformat_minor": 2
}
